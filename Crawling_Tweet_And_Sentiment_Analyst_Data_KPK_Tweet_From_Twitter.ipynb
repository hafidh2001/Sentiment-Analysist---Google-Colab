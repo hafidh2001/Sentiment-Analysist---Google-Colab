{
  "cells": [
    {
      "cell_type": "markdown",
      "metadata": {
        "id": "IQU75TVLjzvW"
      },
      "source": [
        "# IMPORT LIBRARY"
      ]
    },
    {
      "cell_type": "markdown",
      "source": [
        "- Google Colab supaya dapat mengoperasikan colab lebih bebas.\n",
        "- Pandas untuk mengoperasikan pandas data frame.\n",
        "- RE untuk mencocokkan penulisan yang ditampilkan dengan ekspresi yang diinginkan seperti karakter, operator ataupun konstruksi.\n",
        "- NLTK (Natural Language Tool Kit) untuk memproses teks seperti melakukan classification, tokenization, stemming, tagging, parsing, dan semantic reasoning.\n",
        "- Warning untuk menonaktifkan peringatan yang kurang berguna seperti penulisan yang lebih baik atau rekomendasi function dan method pada versi yang lebih baru.\n",
        "- TextBlob untuk melakukan berbagai proses terhadap data teks seperti tokenisasi (pemotongan kata), analisa sentiment."
      ],
      "metadata": {
        "id": "JgEt-8ipC7NH"
      }
    },
    {
      "cell_type": "code",
      "execution_count": 1,
      "metadata": {
        "colab": {
          "base_uri": "https://localhost:8080/"
        },
        "id": "dmZoL_dDjzvZ",
        "outputId": "5e65017d-cd12-441d-b056-445c61908d65"
      },
      "outputs": [
        {
          "output_type": "stream",
          "name": "stdout",
          "text": [
            "Semua library yang dibutuhkan telah terhubung\n"
          ]
        }
      ],
      "source": [
        "from google.colab import files, output\n",
        "\n",
        "import tweepy\n",
        "import sys\n",
        "import csv\n",
        "\n",
        "import pandas as pd\n",
        "import numpy as np\n",
        "import re\n",
        "import nltk\n",
        "from nltk.corpus import stopwords\n",
        "from textblob import TextBlob\n",
        "\n",
        "import warnings\n",
        "\n",
        "warnings.filterwarnings('ignore')\n",
        "print(\"Semua library yang dibutuhkan telah terhubung\")"
      ]
    },
    {
      "cell_type": "markdown",
      "source": [
        "# CRAWLING DATA"
      ],
      "metadata": {
        "id": "4Xu2vqlCPjYB"
      }
    },
    {
      "cell_type": "markdown",
      "source": [
        "#### MAKE VARIABEL TOKEN"
      ],
      "metadata": {
        "id": "DmeU5ZpWP1sm"
      }
    },
    {
      "cell_type": "markdown",
      "source": [
        "Hide API and Token Twitter because it is private"
      ],
      "metadata": {
        "id": "oH92XbPhUT30"
      }
    },
    {
      "cell_type": "code",
      "source": [
        "#@title\n",
        "class Twitter:\n",
        "    def __init__(self):\n",
        "        self.api_key = \"dnKiZSYdax41KdAZ5uQvP6Wlt\"\n",
        "        self.api_key_secret = \"PfDwRJB0lpNwT6Dq9YZb2q97DOgIrMnbK5WmBEf0aCFijK4wvQ\"\n",
        "        self.access_token = \"1331056527931629571-58FTNKGS9M6fB41ZXYEFACjgtb8Lyq\"\n",
        "        self.access_token_secret = \"XJUjOOMcD51VZaXxLBLWr7QFeZlD75H6o9kTubaKE1fNC\"\n",
        "\n",
        "print(\"API Berhasil buat :\")\n",
        "print(\"\\n1.api_key \\n2.api_key_secret \\n3.access_token \\n4.access_token_secret\")"
      ],
      "metadata": {
        "colab": {
          "base_uri": "https://localhost:8080/"
        },
        "cellView": "form",
        "id": "xptCTwlpPnty",
        "outputId": "8d9c8c14-0661-47ea-9d9e-23d2019cebd1"
      },
      "execution_count": 36,
      "outputs": [
        {
          "output_type": "stream",
          "name": "stdout",
          "text": [
            "API Berhasil buat :\n",
            "\n",
            "1.api_key \n",
            "2.api_key_secret \n",
            "3.access_token \n",
            "4.access_token_secret\n"
          ]
        }
      ]
    },
    {
      "cell_type": "markdown",
      "source": [
        "#### DECLARE VARIABEL TO CALL FUNCTION"
      ],
      "metadata": {
        "id": "o2ic9PAVQW_V"
      }
    },
    {
      "cell_type": "code",
      "source": [
        "def twitter_auth():\n",
        "    return Twitter()\n",
        "\n",
        "call_twitter_auth = twitter_auth()"
      ],
      "metadata": {
        "id": "h3GWBdQTP7FW"
      },
      "execution_count": 6,
      "outputs": []
    },
    {
      "cell_type": "markdown",
      "source": [
        "#### AUTHENTICATE TWITTER"
      ],
      "metadata": {
        "id": "q6AV1hWnQKy9"
      }
    },
    {
      "cell_type": "code",
      "source": [
        "auth = tweepy.OAuthHandler(call_twitter_auth.api_key, call_twitter_auth.api_key_secret)\n",
        "auth.set_access_token(call_twitter_auth.access_token, call_twitter_auth.access_token_secret)\n",
        "api = tweepy.API(auth, wait_on_rate_limit=True)"
      ],
      "metadata": {
        "id": "uAhjTcYRQe0_"
      },
      "execution_count": 7,
      "outputs": []
    },
    {
      "cell_type": "markdown",
      "source": [
        "#### CHECK CONNECTION"
      ],
      "metadata": {
        "id": "l_9y5FMrQiqd"
      }
    },
    {
      "cell_type": "code",
      "source": [
        "print(\"Check Connection :\")\n",
        "try:\n",
        "    api.verify_credentials()\n",
        "    print(\"Autentikasi twitter berhasil dihubungkan\")\n",
        "except:\n",
        "    print(\"Autentikasi twitter gagal\")"
      ],
      "metadata": {
        "colab": {
          "base_uri": "https://localhost:8080/"
        },
        "id": "q1EMdar_QhH4",
        "outputId": "d784d873-f8ae-42ac-97d8-b1853963ec66"
      },
      "execution_count": 8,
      "outputs": [
        {
          "output_type": "stream",
          "name": "stdout",
          "text": [
            "Check Connection :\n",
            "Autentikasi twitter berhasil dihubungkan\n"
          ]
        }
      ]
    },
    {
      "cell_type": "markdown",
      "source": [
        "#### CRAWL DATA"
      ],
      "metadata": {
        "id": "inUN6-DiQm_M"
      }
    },
    {
      "cell_type": "code",
      "source": [
        "# ATTACHMENT CRAWLING\n",
        "tweetsPerQuery = 100\n",
        "maxTweets = 300\n",
        "sinceId = None\n",
        "maxId = -1\n",
        "tweetCount = 0\n",
        "\n",
        "print(\"\\n\")\n",
        "search_key = (input(r\"Search Key      : \"))\n",
        "name_file = (input(r\"File Names .CSV : \"))\n",
        "file_csv = (name_file + \".csv\")\n",
        "\n",
        "# CODE\n",
        "print(\"\\n\" + 100 * \"=\")\n",
        "print(f\"START DOWNLOAD '{search_key}' TWEETS\".center(100))\n",
        "print(\"=\" * 100 + \"\\n\")\n",
        "\n",
        "# use library csv with encode utf-8\n",
        "with open(file_csv, 'a+', newline='', encoding='utf-8') as csv_file:\n",
        "    while tweetCount < maxTweets:\n",
        "        try:\n",
        "            if (maxId <= 0):\n",
        "                if (not sinceId):\n",
        "                    newTweets = api.search(q=search_key, lang=\"id\", count=tweetsPerQuery, result_type=\"recent\")\n",
        "                else:\n",
        "                    newTweets = api.search(q=search_key, lang=\"id\", count=tweetsPerQuery, result_type=\"recent\", since_id=sinceId)\n",
        "            else:\n",
        "                if(not sinceId):\n",
        "                    newTweets = api.search(q=search_key, lang=\"id\", count=tweetsPerQuery, result_type=\"recent\", max_id=str(maxId - 1))\n",
        "                else:\n",
        "                    newTweets = api.search(q=search_key, lang=\"id\", count=tweetsPerQuery, result_type=\"recent\", max_id=str(maxId - 1), since_id=sinceId)\n",
        "\n",
        "            if not newTweets:\n",
        "                print(\"\\n\" + f\"No more Tweets found with query = '{search_key}'\")\n",
        "                break\n",
        "\n",
        "            # make header of file.csv\n",
        "            fieldNames = [\"IdTweet\", \"IdUser\", \"UserName\", \"ScreenName\", \"Location\", \"TweetAt\", \"UploadTweet\", \"OriginalTweet\"]\n",
        "            write_csv = csv.DictWriter(csv_file, fieldnames=fieldNames, delimiter=\",\")\n",
        "            write_csv.writeheader()\n",
        "\n",
        "            # insert value in dictionary\n",
        "            for tweet in newTweets:\n",
        "                dictTweet = {\n",
        "                    \"IdTweet\": tweet.id,\n",
        "                    \"IdUser\": tweet.user.id,\n",
        "                    \"UserName\": tweet.user.name,\n",
        "                    \"ScreenName\": tweet.user.screen_name,\n",
        "                    \"Location\": tweet.user.location,\n",
        "                    \"TweetAt\": tweet.created_at,\n",
        "                    \"UploadTweet\": tweet.source,\n",
        "                    \"OriginalTweet\": tweet.text\n",
        "                }\n",
        "                # looping record value\n",
        "                write_csv.writerow(dictTweet)\n",
        "\n",
        "            # descriotion crawl data\n",
        "            tweetCount += len(newTweets)\n",
        "            sys.stdout.write(\"\\r\")\n",
        "            sys.stdout.write(f\"Total downloaded Tweets : {tweetCount}\")\n",
        "            sys.stdout.flush()\n",
        "            maxId = newTweets[-1].id\n",
        "\n",
        "        except tweepy.TweepError  as error:\n",
        "            print(\"Error code : \" + str(error))\n",
        "            break\n",
        "\n",
        "print(\"\\n\\n\" + 100 * \"=\")\n",
        "print(f\"CRAWLING DATA FINISH\".center(100))\n",
        "print(f\"{tweetCount} STORED TWEETS WITH FILE NAMES : '{file_csv}'\".center(100))\n",
        "print(\"=\" * 100 + \"\\n\")"
      ],
      "metadata": {
        "colab": {
          "base_uri": "https://localhost:8080/"
        },
        "id": "9so8xG2pQo6j",
        "outputId": "8938e391-a109-4e7e-9834-add714c39b10"
      },
      "execution_count": 11,
      "outputs": [
        {
          "output_type": "stream",
          "name": "stdout",
          "text": [
            "\n",
            "\n",
            "Search Key      : KPK\n",
            "File Names .CSV : KPK_Tweet\n",
            "\n",
            "====================================================================================================\n",
            "                                    START DOWNLOAD 'KPK' TWEETS                                     \n",
            "====================================================================================================\n",
            "\n",
            "Total downloaded Tweets : 300\n",
            "\n",
            "====================================================================================================\n",
            "                                        CRAWLING DATA FINISH                                        \n",
            "                        300 STORED TWEETS WITH FILE NAMES : 'KPK_Tweet.csv'                         \n",
            "====================================================================================================\n",
            "\n"
          ]
        }
      ]
    },
    {
      "cell_type": "markdown",
      "metadata": {
        "id": "9ak_MLApjzvc"
      },
      "source": [
        "# SHOW DATASET CSV WITH PANDAS"
      ]
    },
    {
      "cell_type": "markdown",
      "source": [
        "* encode = \" ISO-8859-1 \"\n",
        "* encode = \" UTF-8 \""
      ],
      "metadata": {
        "id": "d0Z4cci0oMQ9"
      }
    },
    {
      "cell_type": "code",
      "execution_count": 13,
      "metadata": {
        "scrolled": true,
        "colab": {
          "base_uri": "https://localhost:8080/",
          "height": 292
        },
        "id": "hkgbLUQEjzvc",
        "outputId": "786e384e-6be6-48f3-dfdc-aec39c91b3f7"
      },
      "outputs": [
        {
          "output_type": "execute_result",
          "data": {
            "text/html": [
              "<div>\n",
              "<style scoped>\n",
              "    .dataframe tbody tr th:only-of-type {\n",
              "        vertical-align: middle;\n",
              "    }\n",
              "\n",
              "    .dataframe tbody tr th {\n",
              "        vertical-align: top;\n",
              "    }\n",
              "\n",
              "    .dataframe thead th {\n",
              "        text-align: right;\n",
              "    }\n",
              "</style>\n",
              "<table border=\"1\" class=\"dataframe\">\n",
              "  <thead>\n",
              "    <tr style=\"text-align: right;\">\n",
              "      <th></th>\n",
              "      <th>IdTweet</th>\n",
              "      <th>IdUser</th>\n",
              "      <th>UserName</th>\n",
              "      <th>ScreenName</th>\n",
              "      <th>Location</th>\n",
              "      <th>TweetAt</th>\n",
              "      <th>UploadTweet</th>\n",
              "      <th>OriginalTweet</th>\n",
              "    </tr>\n",
              "  </thead>\n",
              "  <tbody>\n",
              "    <tr>\n",
              "      <th>0</th>\n",
              "      <td>1471461031113232388</td>\n",
              "      <td>1356181263510433795</td>\n",
              "      <td>Bang Mara ð²ð¨ð²ð¨ð²ð¨ð²ð¨ð²...</td>\n",
              "      <td>anjasmara_ferry</td>\n",
              "      <td>NaN</td>\n",
              "      <td>2021-12-16 12:43:42</td>\n",
              "      <td>Twitter for Android</td>\n",
              "      <td>RT @Avilaspirit1: Selama @KPK_RI tidak menelus...</td>\n",
              "    </tr>\n",
              "    <tr>\n",
              "      <th>1</th>\n",
              "      <td>1471460986842279936</td>\n",
              "      <td>1358080544731328514</td>\n",
              "      <td>Persimpangan 2024, NKRI</td>\n",
              "      <td>Katongontaganti</td>\n",
              "      <td>NaN</td>\n",
              "      <td>2021-12-16 12:43:32</td>\n",
              "      <td>Twitter for Android</td>\n",
              "      <td>@__AnakKolong @KPK_RI Fb lagi ya bang, ð</td>\n",
              "    </tr>\n",
              "    <tr>\n",
              "      <th>2</th>\n",
              "      <td>1471460975781957633</td>\n",
              "      <td>4700671753</td>\n",
              "      <td>Huangâ°â</td>\n",
              "      <td>MsjHuang</td>\n",
              "      <td>NaN</td>\n",
              "      <td>2021-12-16 12:43:29</td>\n",
              "      <td>Twitter for Android</td>\n",
              "      <td>RT @Avilaspirit1: Selama @KPK_RI tidak menelus...</td>\n",
              "    </tr>\n",
              "    <tr>\n",
              "      <th>3</th>\n",
              "      <td>1471460898191470598</td>\n",
              "      <td>1360575646653587465</td>\n",
              "      <td>Nana Sukma</td>\n",
              "      <td>NanaSukma77</td>\n",
              "      <td>NaN</td>\n",
              "      <td>2021-12-16 12:43:11</td>\n",
              "      <td>Twitter for Android</td>\n",
              "      <td>@FerdinandHaean3 @KPK_RI Jk Juni 2022 Formula ...</td>\n",
              "    </tr>\n",
              "    <tr>\n",
              "      <th>4</th>\n",
              "      <td>1471460895121313793</td>\n",
              "      <td>1171454604</td>\n",
              "      <td>Lemon Anget</td>\n",
              "      <td>ikpilah</td>\n",
              "      <td>Indonesia</td>\n",
              "      <td>2021-12-16 12:43:10</td>\n",
              "      <td>Twitter for Android</td>\n",
              "      <td>RT @madisnur: Pemerintah n DPR mau mengulang k...</td>\n",
              "    </tr>\n",
              "  </tbody>\n",
              "</table>\n",
              "</div>"
            ],
            "text/plain": [
              "               IdTweet  ...                                      OriginalTweet\n",
              "0  1471461031113232388  ...  RT @Avilaspirit1: Selama @KPK_RI tidak menelus...\n",
              "1  1471460986842279936  ...        @__AnakKolong @KPK_RI Fb lagi ya bang, ð\n",
              "2  1471460975781957633  ...  RT @Avilaspirit1: Selama @KPK_RI tidak menelus...\n",
              "3  1471460898191470598  ...  @FerdinandHaean3 @KPK_RI Jk Juni 2022 Formula ...\n",
              "4  1471460895121313793  ...  RT @madisnur: Pemerintah n DPR mau mengulang k...\n",
              "\n",
              "[5 rows x 8 columns]"
            ]
          },
          "metadata": {},
          "execution_count": 13
        }
      ],
      "source": [
        "df = pd.read_csv('KPK_Tweet.csv', encoding='ISO-8859-1')\n",
        "df.head()"
      ]
    },
    {
      "cell_type": "markdown",
      "metadata": {
        "id": "_KLI3q5ijzvd"
      },
      "source": [
        "# PREPROCESSING DATA"
      ]
    },
    {
      "cell_type": "markdown",
      "metadata": {
        "id": "ixBvhI9hjzve"
      },
      "source": [
        "#### EXPLORATORY DATA ANALYST"
      ]
    },
    {
      "cell_type": "code",
      "execution_count": 14,
      "metadata": {
        "colab": {
          "base_uri": "https://localhost:8080/"
        },
        "id": "WJLyVGrFjzve",
        "outputId": "c3e9f2a8-f1f3-41de-ff69-a966119e379d"
      },
      "outputs": [
        {
          "output_type": "stream",
          "name": "stdout",
          "text": [
            "Total Data : 302\n",
            "Dimensi    : (302, 8) \n",
            "\n",
            "<class 'pandas.core.frame.DataFrame'>\n",
            "RangeIndex: 302 entries, 0 to 301\n",
            "Data columns (total 8 columns):\n",
            " #   Column         Non-Null Count  Dtype \n",
            "---  ------         --------------  ----- \n",
            " 0   IdTweet        302 non-null    object\n",
            " 1   IdUser         302 non-null    object\n",
            " 2   UserName       302 non-null    object\n",
            " 3   ScreenName     302 non-null    object\n",
            " 4   Location       154 non-null    object\n",
            " 5   TweetAt        302 non-null    object\n",
            " 6   UploadTweet    302 non-null    object\n",
            " 7   OriginalTweet  302 non-null    object\n",
            "dtypes: object(8)"
          ]
        }
      ],
      "source": [
        "df.columns = [column for column in df.columns]\n",
        "print(\"Total Data :\", df.shape[0])\n",
        "print(\"Dimensi    :\", df.shape, \"\\n\")\n",
        "df.info(memory_usage=False)"
      ]
    },
    {
      "cell_type": "markdown",
      "metadata": {
        "id": "X03Q6IcHjzvh"
      },
      "source": [
        "#### REMOVE COLUMN THAT IS NOT REQUIRED"
      ]
    },
    {
      "cell_type": "code",
      "execution_count": 15,
      "metadata": {
        "colab": {
          "base_uri": "https://localhost:8080/",
          "height": 206
        },
        "id": "K_abOMvCmWMn",
        "outputId": "3ff6ca8f-6733-482b-fb46-f9a73d18789c"
      },
      "outputs": [
        {
          "output_type": "execute_result",
          "data": {
            "text/html": [
              "<div>\n",
              "<style scoped>\n",
              "    .dataframe tbody tr th:only-of-type {\n",
              "        vertical-align: middle;\n",
              "    }\n",
              "\n",
              "    .dataframe tbody tr th {\n",
              "        vertical-align: top;\n",
              "    }\n",
              "\n",
              "    .dataframe thead th {\n",
              "        text-align: right;\n",
              "    }\n",
              "</style>\n",
              "<table border=\"1\" class=\"dataframe\">\n",
              "  <thead>\n",
              "    <tr style=\"text-align: right;\">\n",
              "      <th></th>\n",
              "      <th>TweetAt</th>\n",
              "      <th>OriginalTweet</th>\n",
              "    </tr>\n",
              "  </thead>\n",
              "  <tbody>\n",
              "    <tr>\n",
              "      <th>0</th>\n",
              "      <td>2021-12-16 12:43:42</td>\n",
              "      <td>RT @Avilaspirit1: Selama @KPK_RI tidak menelus...</td>\n",
              "    </tr>\n",
              "    <tr>\n",
              "      <th>1</th>\n",
              "      <td>2021-12-16 12:43:32</td>\n",
              "      <td>@__AnakKolong @KPK_RI Fb lagi ya bang, ð</td>\n",
              "    </tr>\n",
              "    <tr>\n",
              "      <th>2</th>\n",
              "      <td>2021-12-16 12:43:29</td>\n",
              "      <td>RT @Avilaspirit1: Selama @KPK_RI tidak menelus...</td>\n",
              "    </tr>\n",
              "    <tr>\n",
              "      <th>3</th>\n",
              "      <td>2021-12-16 12:43:11</td>\n",
              "      <td>@FerdinandHaean3 @KPK_RI Jk Juni 2022 Formula ...</td>\n",
              "    </tr>\n",
              "    <tr>\n",
              "      <th>4</th>\n",
              "      <td>2021-12-16 12:43:10</td>\n",
              "      <td>RT @madisnur: Pemerintah n DPR mau mengulang k...</td>\n",
              "    </tr>\n",
              "  </tbody>\n",
              "</table>\n",
              "</div>"
            ],
            "text/plain": [
              "               TweetAt                                      OriginalTweet\n",
              "0  2021-12-16 12:43:42  RT @Avilaspirit1: Selama @KPK_RI tidak menelus...\n",
              "1  2021-12-16 12:43:32        @__AnakKolong @KPK_RI Fb lagi ya bang, ð\n",
              "2  2021-12-16 12:43:29  RT @Avilaspirit1: Selama @KPK_RI tidak menelus...\n",
              "3  2021-12-16 12:43:11  @FerdinandHaean3 @KPK_RI Jk Juni 2022 Formula ...\n",
              "4  2021-12-16 12:43:10  RT @madisnur: Pemerintah n DPR mau mengulang k..."
            ]
          },
          "metadata": {},
          "execution_count": 15
        }
      ],
      "source": [
        "df.drop(df.columns.difference([\"TweetAt\", \"OriginalTweet\"]), 1, inplace=True)\n",
        "df.head()"
      ]
    },
    {
      "cell_type": "markdown",
      "metadata": {
        "id": "-Fqhxt1zjzvd"
      },
      "source": [
        "#### DELETE DUPLICATE RECORD"
      ]
    },
    {
      "cell_type": "code",
      "source": [
        "print(\"Total data sebelum hapus duplicates:\", df.shape[0])\n",
        "df = df.drop_duplicates()\n",
        "print(\"Total data sebelum hapus duplicates:\", df.shape[0])"
      ],
      "metadata": {
        "colab": {
          "base_uri": "https://localhost:8080/"
        },
        "id": "EkYxYSPswfYt",
        "outputId": "e139d601-f8f4-4115-b4ae-3f237b0ad8d2"
      },
      "execution_count": 16,
      "outputs": [
        {
          "output_type": "stream",
          "name": "stdout",
          "text": [
            "Total data sebelum hapus duplicates: 302\n",
            "Total data sebelum hapus duplicates: 301\n"
          ]
        }
      ]
    },
    {
      "cell_type": "markdown",
      "metadata": {
        "id": "RFztyewKjzvi"
      },
      "source": [
        "#### GET COLUMN FOR ANALYSIS AND CLEAN TWEET DATA IN COLUMN"
      ]
    },
    {
      "cell_type": "markdown",
      "source": [
        "hapus karakter -> underscore"
      ],
      "metadata": {
        "id": "p9jEiHnLEHt2"
      }
    },
    {
      "cell_type": "code",
      "source": [
        "original_tweets = df[\"OriginalTweet\"]\n",
        "delete_underscore_tweets = [tweet.replace(\"_\", \"\") for tweet in original_tweets]\n",
        "\n",
        "delete_underscore_tweets[:5]"
      ],
      "metadata": {
        "colab": {
          "base_uri": "https://localhost:8080/"
        },
        "id": "bMyUcrMTrzpz",
        "outputId": "2ab370f6-6ad3-4442-ea41-a51402854b12"
      },
      "execution_count": 17,
      "outputs": [
        {
          "output_type": "execute_result",
          "data": {
            "text/plain": [
              "['RT @Avilaspirit1: Selama @KPKRI tidak menelusuri dana formula E berarti FIX 2024 si Anus akan bergandengan dgn Si Anak Pepo utk CAPRES CAWâ\\x80¦',\n",
              " '@AnakKolong @KPKRI Fb lagi ya bang, ð\\x9f\\x98\\x8a',\n",
              " 'RT @Avilaspirit1: Selama @KPKRI tidak menelusuri dana formula E berarti FIX 2024 si Anus akan bergandengan dgn Si Anak Pepo utk CAPRES CAWâ\\x80¦',\n",
              " '@FerdinandHaean3 @KPKRI Jk Juni 2022 Formula E berjalan lancar dan tdk ada masalah menurut @KPKRI maka layakkahâ\\x80¦ https://t.co/GodVIVvLFr',\n",
              " 'RT @madisnur: Pemerintah n DPR mau mengulang kembali cara pembahasan UU KPK dan Omnibus Law Cipta Kerja di RUU IKN\\n\\nTerbukti kemudian melemâ\\x80¦']"
            ]
          },
          "metadata": {},
          "execution_count": 17
        }
      ]
    },
    {
      "cell_type": "markdown",
      "source": [
        "set regular expression -> hapus tanda baca dan karakter pada teks"
      ],
      "metadata": {
        "id": "gc1XAHcEERz_"
      }
    },
    {
      "cell_type": "code",
      "source": [
        "expression_tweets = []\n",
        "\n",
        "for tweet in delete_underscore_tweets:\n",
        "  expression_tweet = ' '.join(re.sub(\"(@[A-Za-z0-9]+)|([^0-9A-Za-z \\t])|(\\w+:\\/\\/\\S+)\", \" \", tweet).split())\n",
        "  expression_tweets.append(expression_tweet)\n",
        "\n",
        "expression_tweets[:5]"
      ],
      "metadata": {
        "colab": {
          "base_uri": "https://localhost:8080/"
        },
        "id": "3MxIdN3dCG1B",
        "outputId": "838c8fe6-4f2f-412a-e405-007d51f44cab"
      },
      "execution_count": 18,
      "outputs": [
        {
          "output_type": "execute_result",
          "data": {
            "text/plain": [
              "['RT Selama tidak menelusuri dana formula E berarti FIX 2024 si Anus akan bergandengan dgn Si Anak Pepo utk CAPRES CAW',\n",
              " 'Fb lagi ya bang',\n",
              " 'RT Selama tidak menelusuri dana formula E berarti FIX 2024 si Anus akan bergandengan dgn Si Anak Pepo utk CAPRES CAW',\n",
              " 'Jk Juni 2022 Formula E berjalan lancar dan tdk ada masalah menurut maka layakkah',\n",
              " 'RT Pemerintah n DPR mau mengulang kembali cara pembahasan UU KPK dan Omnibus Law Cipta Kerja di RUU IKN Terbukti kemudian melem']"
            ]
          },
          "metadata": {},
          "execution_count": 18
        }
      ]
    },
    {
      "cell_type": "markdown",
      "source": [
        "set regular expression -> hapus nilai numerik\n",
        "\n"
      ],
      "metadata": {
        "id": "iBBWuyW2Eiol"
      }
    },
    {
      "cell_type": "code",
      "source": [
        "delete_numeric_tweets = [re.sub(r'[0-9]', '', tweet) for tweet in expression_tweets]\n",
        "\n",
        "delete_numeric_tweets[:5]"
      ],
      "metadata": {
        "colab": {
          "base_uri": "https://localhost:8080/"
        },
        "id": "1K_zlmtlqPli",
        "outputId": "067e9fef-a523-44c8-ef47-9818860ead71"
      },
      "execution_count": 19,
      "outputs": [
        {
          "output_type": "execute_result",
          "data": {
            "text/plain": [
              "['RT Selama tidak menelusuri dana formula E berarti FIX  si Anus akan bergandengan dgn Si Anak Pepo utk CAPRES CAW',\n",
              " 'Fb lagi ya bang',\n",
              " 'RT Selama tidak menelusuri dana formula E berarti FIX  si Anus akan bergandengan dgn Si Anak Pepo utk CAPRES CAW',\n",
              " 'Jk Juni  Formula E berjalan lancar dan tdk ada masalah menurut maka layakkah',\n",
              " 'RT Pemerintah n DPR mau mengulang kembali cara pembahasan UU KPK dan Omnibus Law Cipta Kerja di RUU IKN Terbukti kemudian melem']"
            ]
          },
          "metadata": {},
          "execution_count": 19
        }
      ]
    },
    {
      "cell_type": "markdown",
      "source": [
        "#### TRANSLATE LANGUAGE TO ENGLISH"
      ],
      "metadata": {
        "id": "3LzIXskS-f5Y"
      }
    },
    {
      "cell_type": "markdown",
      "source": [
        "Link library : https://pypi.org/project/googletrans/"
      ],
      "metadata": {
        "id": "d8JU6W9rFIN3"
      }
    },
    {
      "cell_type": "code",
      "source": [
        "!pip install googletrans==3.1.0a0\n",
        "\n",
        "from googletrans import Translator\n",
        "\n",
        "output.clear()\n",
        "print(\"Library Googletrans berhasil diinstall\")"
      ],
      "metadata": {
        "colab": {
          "base_uri": "https://localhost:8080/"
        },
        "id": "3SruAbNC4XdG",
        "outputId": "091e2e53-dd5d-43bb-fe0c-18d989dc439e"
      },
      "execution_count": 20,
      "outputs": [
        {
          "output_type": "stream",
          "name": "stdout",
          "text": [
            "Library Googletrans berhasil diinstall\n"
          ]
        }
      ]
    },
    {
      "cell_type": "markdown",
      "source": [
        "Link Documentation : https://py-googletrans.readthedocs.io/en/latest/"
      ],
      "metadata": {
        "id": "__dF2CJ2FSzX"
      }
    },
    {
      "cell_type": "code",
      "source": [
        "translator = Translator(service_urls=['translate.googleapis.com', 'https://translate.google.com'])\n",
        "\n",
        "translations = translator.translate(delete_numeric_tweets, dest='en')\n",
        "translate_tweets = []\n",
        "\n",
        "for result in translations:\n",
        "  translate_tweets.append(result.text)\n",
        "\n",
        "print(\"Translate pada text Tweet berhasil dilakukan\")"
      ],
      "metadata": {
        "colab": {
          "base_uri": "https://localhost:8080/"
        },
        "id": "_M2jbzTq4vWx",
        "outputId": "ee17f2e2-658e-4abd-893d-e73d6104f6a0"
      },
      "execution_count": 21,
      "outputs": [
        {
          "output_type": "stream",
          "name": "stdout",
          "text": [
            "Translate pada text Tweet berhasil dilakukan\n"
          ]
        }
      ]
    },
    {
      "cell_type": "markdown",
      "source": [
        "#### TRANSFORM CASE AND CLEANING DATA v.2"
      ],
      "metadata": {
        "id": "SE2OZDkLI6qI"
      }
    },
    {
      "cell_type": "markdown",
      "source": [
        "set regular expression -> hapus tanda baca dan karakter pada teks"
      ],
      "metadata": {
        "id": "xI8uPeX5F11H"
      }
    },
    {
      "cell_type": "code",
      "source": [
        "transform_tweets = [tweet.lower() for tweet in translate_tweets]\n",
        "expression_tweets_en = []\n",
        "\n",
        "for tweet in transform_tweets:\n",
        "  expression_tweet = ' '.join(re.sub(\"(@[A-Za-z0-9]+)|([^0-9A-Za-z \\t])|(\\w+:\\/\\/\\S+)\", \" \", tweet).split())\n",
        "  expression_tweets_en.append(expression_tweet)\n",
        "\n",
        "df[\"Translate_Tweet\"] = expression_tweets_en\n",
        "print(\"Dimensi :\", df.shape, \"\\n\")\n",
        "df.head()"
      ],
      "metadata": {
        "colab": {
          "base_uri": "https://localhost:8080/",
          "height": 243
        },
        "id": "uRPFBrL1I-7D",
        "outputId": "1fcc1de2-c2d8-41b7-fea5-31a00ced6e55"
      },
      "execution_count": 22,
      "outputs": [
        {
          "output_type": "stream",
          "name": "stdout",
          "text": [
            "Dimensi : (301, 3) \n",
            "\n"
          ]
        },
        {
          "output_type": "execute_result",
          "data": {
            "text/html": [
              "<div>\n",
              "<style scoped>\n",
              "    .dataframe tbody tr th:only-of-type {\n",
              "        vertical-align: middle;\n",
              "    }\n",
              "\n",
              "    .dataframe tbody tr th {\n",
              "        vertical-align: top;\n",
              "    }\n",
              "\n",
              "    .dataframe thead th {\n",
              "        text-align: right;\n",
              "    }\n",
              "</style>\n",
              "<table border=\"1\" class=\"dataframe\">\n",
              "  <thead>\n",
              "    <tr style=\"text-align: right;\">\n",
              "      <th></th>\n",
              "      <th>TweetAt</th>\n",
              "      <th>OriginalTweet</th>\n",
              "      <th>Translate_Tweet</th>\n",
              "    </tr>\n",
              "  </thead>\n",
              "  <tbody>\n",
              "    <tr>\n",
              "      <th>0</th>\n",
              "      <td>2021-12-16 12:43:42</td>\n",
              "      <td>RT @Avilaspirit1: Selama @KPK_RI tidak menelus...</td>\n",
              "      <td>rt as long as you don t search for formula e f...</td>\n",
              "    </tr>\n",
              "    <tr>\n",
              "      <th>1</th>\n",
              "      <td>2021-12-16 12:43:32</td>\n",
              "      <td>@__AnakKolong @KPK_RI Fb lagi ya bang, ð</td>\n",
              "      <td>fb again yes bang</td>\n",
              "    </tr>\n",
              "    <tr>\n",
              "      <th>2</th>\n",
              "      <td>2021-12-16 12:43:29</td>\n",
              "      <td>RT @Avilaspirit1: Selama @KPK_RI tidak menelus...</td>\n",
              "      <td>rt as long as you don t search for formula e f...</td>\n",
              "    </tr>\n",
              "    <tr>\n",
              "      <th>3</th>\n",
              "      <td>2021-12-16 12:43:11</td>\n",
              "      <td>@FerdinandHaean3 @KPK_RI Jk Juni 2022 Formula ...</td>\n",
              "      <td>jk june formula e runs smoothly and there is n...</td>\n",
              "    </tr>\n",
              "    <tr>\n",
              "      <th>4</th>\n",
              "      <td>2021-12-16 12:43:10</td>\n",
              "      <td>RT @madisnur: Pemerintah n DPR mau mengulang k...</td>\n",
              "      <td>rt the government and the dpr want to repeat t...</td>\n",
              "    </tr>\n",
              "  </tbody>\n",
              "</table>\n",
              "</div>"
            ],
            "text/plain": [
              "               TweetAt  ...                                    Translate_Tweet\n",
              "0  2021-12-16 12:43:42  ...  rt as long as you don t search for formula e f...\n",
              "1  2021-12-16 12:43:32  ...                                  fb again yes bang\n",
              "2  2021-12-16 12:43:29  ...  rt as long as you don t search for formula e f...\n",
              "3  2021-12-16 12:43:11  ...  jk june formula e runs smoothly and there is n...\n",
              "4  2021-12-16 12:43:10  ...  rt the government and the dpr want to repeat t...\n",
              "\n",
              "[5 rows x 3 columns]"
            ]
          },
          "metadata": {},
          "execution_count": 22
        }
      ]
    },
    {
      "cell_type": "markdown",
      "source": [
        "#### TOKENIZATION"
      ],
      "metadata": {
        "id": "2p9GDc7Y5tJZ"
      }
    },
    {
      "cell_type": "code",
      "source": [
        "def tokenize(tweet):\n",
        "  token = re.split('\\W+', tweet)\n",
        "  return token\n",
        "\n",
        "tokenized_tweets = [tokenize(tweet) for tweet in expression_tweets_en]\n",
        "\n",
        "df[\"Tokenized_Tweet\"] = tokenized_tweets\n",
        "print(\"Dimensi :\", df.shape, \"\\n\")\n",
        "df.head()"
      ],
      "metadata": {
        "colab": {
          "base_uri": "https://localhost:8080/",
          "height": 243
        },
        "id": "Af-0FM2n_8hg",
        "outputId": "7c012cbf-2fe4-422f-d398-385c5e8486d6"
      },
      "execution_count": 23,
      "outputs": [
        {
          "output_type": "stream",
          "name": "stdout",
          "text": [
            "Dimensi : (301, 4) \n",
            "\n"
          ]
        },
        {
          "output_type": "execute_result",
          "data": {
            "text/html": [
              "<div>\n",
              "<style scoped>\n",
              "    .dataframe tbody tr th:only-of-type {\n",
              "        vertical-align: middle;\n",
              "    }\n",
              "\n",
              "    .dataframe tbody tr th {\n",
              "        vertical-align: top;\n",
              "    }\n",
              "\n",
              "    .dataframe thead th {\n",
              "        text-align: right;\n",
              "    }\n",
              "</style>\n",
              "<table border=\"1\" class=\"dataframe\">\n",
              "  <thead>\n",
              "    <tr style=\"text-align: right;\">\n",
              "      <th></th>\n",
              "      <th>TweetAt</th>\n",
              "      <th>OriginalTweet</th>\n",
              "      <th>Translate_Tweet</th>\n",
              "      <th>Tokenized_Tweet</th>\n",
              "    </tr>\n",
              "  </thead>\n",
              "  <tbody>\n",
              "    <tr>\n",
              "      <th>0</th>\n",
              "      <td>2021-12-16 12:43:42</td>\n",
              "      <td>RT @Avilaspirit1: Selama @KPK_RI tidak menelus...</td>\n",
              "      <td>rt as long as you don t search for formula e f...</td>\n",
              "      <td>[rt, as, long, as, you, don, t, search, for, f...</td>\n",
              "    </tr>\n",
              "    <tr>\n",
              "      <th>1</th>\n",
              "      <td>2021-12-16 12:43:32</td>\n",
              "      <td>@__AnakKolong @KPK_RI Fb lagi ya bang, ð</td>\n",
              "      <td>fb again yes bang</td>\n",
              "      <td>[fb, again, yes, bang]</td>\n",
              "    </tr>\n",
              "    <tr>\n",
              "      <th>2</th>\n",
              "      <td>2021-12-16 12:43:29</td>\n",
              "      <td>RT @Avilaspirit1: Selama @KPK_RI tidak menelus...</td>\n",
              "      <td>rt as long as you don t search for formula e f...</td>\n",
              "      <td>[rt, as, long, as, you, don, t, search, for, f...</td>\n",
              "    </tr>\n",
              "    <tr>\n",
              "      <th>3</th>\n",
              "      <td>2021-12-16 12:43:11</td>\n",
              "      <td>@FerdinandHaean3 @KPK_RI Jk Juni 2022 Formula ...</td>\n",
              "      <td>jk june formula e runs smoothly and there is n...</td>\n",
              "      <td>[jk, june, formula, e, runs, smoothly, and, th...</td>\n",
              "    </tr>\n",
              "    <tr>\n",
              "      <th>4</th>\n",
              "      <td>2021-12-16 12:43:10</td>\n",
              "      <td>RT @madisnur: Pemerintah n DPR mau mengulang k...</td>\n",
              "      <td>rt the government and the dpr want to repeat t...</td>\n",
              "      <td>[rt, the, government, and, the, dpr, want, to,...</td>\n",
              "    </tr>\n",
              "  </tbody>\n",
              "</table>\n",
              "</div>"
            ],
            "text/plain": [
              "               TweetAt  ...                                    Tokenized_Tweet\n",
              "0  2021-12-16 12:43:42  ...  [rt, as, long, as, you, don, t, search, for, f...\n",
              "1  2021-12-16 12:43:32  ...                             [fb, again, yes, bang]\n",
              "2  2021-12-16 12:43:29  ...  [rt, as, long, as, you, don, t, search, for, f...\n",
              "3  2021-12-16 12:43:11  ...  [jk, june, formula, e, runs, smoothly, and, th...\n",
              "4  2021-12-16 12:43:10  ...  [rt, the, government, and, the, dpr, want, to,...\n",
              "\n",
              "[5 rows x 4 columns]"
            ]
          },
          "metadata": {},
          "execution_count": 23
        }
      ]
    },
    {
      "cell_type": "markdown",
      "source": [
        "#### USE STOPWORD TO CLEAN WEAK DATA"
      ],
      "metadata": {
        "id": "KNF-i1exp7Ny"
      }
    },
    {
      "cell_type": "code",
      "source": [
        "nltk.download('stopwords')\n",
        "output.clear()\n",
        "print(\"NLTK Stopwords berhasil diinstall\")"
      ],
      "metadata": {
        "colab": {
          "base_uri": "https://localhost:8080/"
        },
        "id": "Xyh2X7KiOTf4",
        "outputId": "fbeffa50-793d-4b2a-c7ed-3140b28f0614"
      },
      "execution_count": 24,
      "outputs": [
        {
          "output_type": "stream",
          "name": "stdout",
          "text": [
            "NLTK Stopwords berhasil diinstall\n"
          ]
        }
      ]
    },
    {
      "cell_type": "markdown",
      "source": [
        "set library stopword untuk menghapus data yang lemah"
      ],
      "metadata": {
        "id": "7EW6gePWGKVf"
      }
    },
    {
      "cell_type": "code",
      "source": [
        "stop_words = stopwords.words('english')\n",
        "custom_stopwords = ['rt', 'pt']\n",
        "alpha_stopwords = ['b', 'c', 'd', 'e', 'f', 'g', 'h', 'j', 'k', 'l', 'm', 'n', 'o', 'p', 'q', 'r', 's', 't', 'v', 'w', 'x', 'y', 'z']\n",
        "\n",
        "def remove_stopwords(tweet, custom_stopwords, alpha_stopwords):\n",
        "  preprocessed_tweet = tweet\n",
        "  preprocessed_tweet = \" \".join(word for word in preprocessed_tweet.split() if word not in stop_words)\n",
        "  preprocessed_tweet = \" \".join(word for word in preprocessed_tweet.split() if word not in custom_stopwords)\n",
        "  preprocessed_tweet = \" \".join(word for word in preprocessed_tweet.split() if word not in alpha_stopwords)\n",
        "  return preprocessed_tweet\n",
        "\n",
        "df[\"Clean_Stopword_Tweet\"] = df[\"Translate_Tweet\"].apply(lambda x: remove_stopwords(x, custom_stopwords, alpha_stopwords))\n",
        "print(\"Dimensi :\", df.shape, \"\\n\")\n",
        "df.head()"
      ],
      "metadata": {
        "colab": {
          "base_uri": "https://localhost:8080/",
          "height": 329
        },
        "id": "qOtlp6NUhJbZ",
        "outputId": "f8492553-921d-40c3-e743-9b9398ffd8f6"
      },
      "execution_count": 25,
      "outputs": [
        {
          "output_type": "stream",
          "name": "stdout",
          "text": [
            "Dimensi : (301, 5) \n",
            "\n"
          ]
        },
        {
          "output_type": "execute_result",
          "data": {
            "text/html": [
              "<div>\n",
              "<style scoped>\n",
              "    .dataframe tbody tr th:only-of-type {\n",
              "        vertical-align: middle;\n",
              "    }\n",
              "\n",
              "    .dataframe tbody tr th {\n",
              "        vertical-align: top;\n",
              "    }\n",
              "\n",
              "    .dataframe thead th {\n",
              "        text-align: right;\n",
              "    }\n",
              "</style>\n",
              "<table border=\"1\" class=\"dataframe\">\n",
              "  <thead>\n",
              "    <tr style=\"text-align: right;\">\n",
              "      <th></th>\n",
              "      <th>TweetAt</th>\n",
              "      <th>OriginalTweet</th>\n",
              "      <th>Translate_Tweet</th>\n",
              "      <th>Tokenized_Tweet</th>\n",
              "      <th>Clean_Stopword_Tweet</th>\n",
              "    </tr>\n",
              "  </thead>\n",
              "  <tbody>\n",
              "    <tr>\n",
              "      <th>0</th>\n",
              "      <td>2021-12-16 12:43:42</td>\n",
              "      <td>RT @Avilaspirit1: Selama @KPK_RI tidak menelus...</td>\n",
              "      <td>rt as long as you don t search for formula e f...</td>\n",
              "      <td>[rt, as, long, as, you, don, t, search, for, f...</td>\n",
              "      <td>long search formula funds means anus fix work ...</td>\n",
              "    </tr>\n",
              "    <tr>\n",
              "      <th>1</th>\n",
              "      <td>2021-12-16 12:43:32</td>\n",
              "      <td>@__AnakKolong @KPK_RI Fb lagi ya bang, ð</td>\n",
              "      <td>fb again yes bang</td>\n",
              "      <td>[fb, again, yes, bang]</td>\n",
              "      <td>fb yes bang</td>\n",
              "    </tr>\n",
              "    <tr>\n",
              "      <th>2</th>\n",
              "      <td>2021-12-16 12:43:29</td>\n",
              "      <td>RT @Avilaspirit1: Selama @KPK_RI tidak menelus...</td>\n",
              "      <td>rt as long as you don t search for formula e f...</td>\n",
              "      <td>[rt, as, long, as, you, don, t, search, for, f...</td>\n",
              "      <td>long search formula funds means anus fix work ...</td>\n",
              "    </tr>\n",
              "    <tr>\n",
              "      <th>3</th>\n",
              "      <td>2021-12-16 12:43:11</td>\n",
              "      <td>@FerdinandHaean3 @KPK_RI Jk Juni 2022 Formula ...</td>\n",
              "      <td>jk june formula e runs smoothly and there is n...</td>\n",
              "      <td>[jk, june, formula, e, runs, smoothly, and, th...</td>\n",
              "      <td>jk june formula runs smoothly problem accordin...</td>\n",
              "    </tr>\n",
              "    <tr>\n",
              "      <th>4</th>\n",
              "      <td>2021-12-16 12:43:10</td>\n",
              "      <td>RT @madisnur: Pemerintah n DPR mau mengulang k...</td>\n",
              "      <td>rt the government and the dpr want to repeat t...</td>\n",
              "      <td>[rt, the, government, and, the, dpr, want, to,...</td>\n",
              "      <td>government dpr want repeat discussion kpk law ...</td>\n",
              "    </tr>\n",
              "  </tbody>\n",
              "</table>\n",
              "</div>"
            ],
            "text/plain": [
              "               TweetAt  ...                               Clean_Stopword_Tweet\n",
              "0  2021-12-16 12:43:42  ...  long search formula funds means anus fix work ...\n",
              "1  2021-12-16 12:43:32  ...                                        fb yes bang\n",
              "2  2021-12-16 12:43:29  ...  long search formula funds means anus fix work ...\n",
              "3  2021-12-16 12:43:11  ...  jk june formula runs smoothly problem accordin...\n",
              "4  2021-12-16 12:43:10  ...  government dpr want repeat discussion kpk law ...\n",
              "\n",
              "[5 rows x 5 columns]"
            ]
          },
          "metadata": {},
          "execution_count": 25
        }
      ]
    },
    {
      "cell_type": "markdown",
      "source": [
        "# SENTIMENT ANALYST"
      ],
      "metadata": {
        "id": "2NuoaS9BurJx"
      }
    },
    {
      "cell_type": "markdown",
      "source": [
        "#### GET FOCUS COLUMN WITH INDEXING"
      ],
      "metadata": {
        "id": "NBWY6BnrAtPP"
      }
    },
    {
      "cell_type": "code",
      "source": [
        "df_sentiment = df.loc[:, [\"TweetAt\", \"Clean_Stopword_Tweet\"]]\n",
        "df_sentiment.head()"
      ],
      "metadata": {
        "colab": {
          "base_uri": "https://localhost:8080/",
          "height": 206
        },
        "id": "te8Zq4s_A-Np",
        "outputId": "f6c0c0e5-a8b4-45a2-9f4a-5318e943db40"
      },
      "execution_count": 26,
      "outputs": [
        {
          "output_type": "execute_result",
          "data": {
            "text/html": [
              "<div>\n",
              "<style scoped>\n",
              "    .dataframe tbody tr th:only-of-type {\n",
              "        vertical-align: middle;\n",
              "    }\n",
              "\n",
              "    .dataframe tbody tr th {\n",
              "        vertical-align: top;\n",
              "    }\n",
              "\n",
              "    .dataframe thead th {\n",
              "        text-align: right;\n",
              "    }\n",
              "</style>\n",
              "<table border=\"1\" class=\"dataframe\">\n",
              "  <thead>\n",
              "    <tr style=\"text-align: right;\">\n",
              "      <th></th>\n",
              "      <th>TweetAt</th>\n",
              "      <th>Clean_Stopword_Tweet</th>\n",
              "    </tr>\n",
              "  </thead>\n",
              "  <tbody>\n",
              "    <tr>\n",
              "      <th>0</th>\n",
              "      <td>2021-12-16 12:43:42</td>\n",
              "      <td>long search formula funds means anus fix work ...</td>\n",
              "    </tr>\n",
              "    <tr>\n",
              "      <th>1</th>\n",
              "      <td>2021-12-16 12:43:32</td>\n",
              "      <td>fb yes bang</td>\n",
              "    </tr>\n",
              "    <tr>\n",
              "      <th>2</th>\n",
              "      <td>2021-12-16 12:43:29</td>\n",
              "      <td>long search formula funds means anus fix work ...</td>\n",
              "    </tr>\n",
              "    <tr>\n",
              "      <th>3</th>\n",
              "      <td>2021-12-16 12:43:11</td>\n",
              "      <td>jk june formula runs smoothly problem accordin...</td>\n",
              "    </tr>\n",
              "    <tr>\n",
              "      <th>4</th>\n",
              "      <td>2021-12-16 12:43:10</td>\n",
              "      <td>government dpr want repeat discussion kpk law ...</td>\n",
              "    </tr>\n",
              "  </tbody>\n",
              "</table>\n",
              "</div>"
            ],
            "text/plain": [
              "               TweetAt                               Clean_Stopword_Tweet\n",
              "0  2021-12-16 12:43:42  long search formula funds means anus fix work ...\n",
              "1  2021-12-16 12:43:32                                        fb yes bang\n",
              "2  2021-12-16 12:43:29  long search formula funds means anus fix work ...\n",
              "3  2021-12-16 12:43:11  jk june formula runs smoothly problem accordin...\n",
              "4  2021-12-16 12:43:10  government dpr want repeat discussion kpk law ..."
            ]
          },
          "metadata": {},
          "execution_count": 26
        }
      ]
    },
    {
      "cell_type": "markdown",
      "source": [
        "#### CALCULATE SENTIMENT"
      ],
      "metadata": {
        "id": "vcaHyLywA_Jj"
      }
    },
    {
      "cell_type": "code",
      "source": [
        "df_sentiment['Polarity'] = df_sentiment[\"Clean_Stopword_Tweet\"].apply(lambda x: TextBlob(x).sentiment.polarity)\n",
        "df_sentiment['Subjectivity'] = df_sentiment[\"Clean_Stopword_Tweet\"].apply(lambda x: TextBlob(x).sentiment.subjectivity)\n",
        "print(\"Dimensi :\", df_sentiment.shape, \"\\n\")\n",
        "df_sentiment.head()"
      ],
      "metadata": {
        "colab": {
          "base_uri": "https://localhost:8080/",
          "height": 243
        },
        "id": "SXdLh8OLu0Ug",
        "outputId": "3ea2d352-2cb7-465c-e74d-df221ab1ce97"
      },
      "execution_count": 27,
      "outputs": [
        {
          "output_type": "stream",
          "name": "stdout",
          "text": [
            "Dimensi : (301, 4) \n",
            "\n"
          ]
        },
        {
          "output_type": "execute_result",
          "data": {
            "text/html": [
              "<div>\n",
              "<style scoped>\n",
              "    .dataframe tbody tr th:only-of-type {\n",
              "        vertical-align: middle;\n",
              "    }\n",
              "\n",
              "    .dataframe tbody tr th {\n",
              "        vertical-align: top;\n",
              "    }\n",
              "\n",
              "    .dataframe thead th {\n",
              "        text-align: right;\n",
              "    }\n",
              "</style>\n",
              "<table border=\"1\" class=\"dataframe\">\n",
              "  <thead>\n",
              "    <tr style=\"text-align: right;\">\n",
              "      <th></th>\n",
              "      <th>TweetAt</th>\n",
              "      <th>Clean_Stopword_Tweet</th>\n",
              "      <th>Polarity</th>\n",
              "      <th>Subjectivity</th>\n",
              "    </tr>\n",
              "  </thead>\n",
              "  <tbody>\n",
              "    <tr>\n",
              "      <th>0</th>\n",
              "      <td>2021-12-16 12:43:42</td>\n",
              "      <td>long search formula funds means anus fix work ...</td>\n",
              "      <td>-0.05</td>\n",
              "      <td>0.4</td>\n",
              "    </tr>\n",
              "    <tr>\n",
              "      <th>1</th>\n",
              "      <td>2021-12-16 12:43:32</td>\n",
              "      <td>fb yes bang</td>\n",
              "      <td>0.00</td>\n",
              "      <td>0.0</td>\n",
              "    </tr>\n",
              "    <tr>\n",
              "      <th>2</th>\n",
              "      <td>2021-12-16 12:43:29</td>\n",
              "      <td>long search formula funds means anus fix work ...</td>\n",
              "      <td>-0.05</td>\n",
              "      <td>0.4</td>\n",
              "    </tr>\n",
              "    <tr>\n",
              "      <th>3</th>\n",
              "      <td>2021-12-16 12:43:11</td>\n",
              "      <td>jk june formula runs smoothly problem accordin...</td>\n",
              "      <td>0.35</td>\n",
              "      <td>0.3</td>\n",
              "    </tr>\n",
              "    <tr>\n",
              "      <th>4</th>\n",
              "      <td>2021-12-16 12:43:10</td>\n",
              "      <td>government dpr want repeat discussion kpk law ...</td>\n",
              "      <td>0.00</td>\n",
              "      <td>0.0</td>\n",
              "    </tr>\n",
              "  </tbody>\n",
              "</table>\n",
              "</div>"
            ],
            "text/plain": [
              "               TweetAt  ... Subjectivity\n",
              "0  2021-12-16 12:43:42  ...          0.4\n",
              "1  2021-12-16 12:43:32  ...          0.0\n",
              "2  2021-12-16 12:43:29  ...          0.4\n",
              "3  2021-12-16 12:43:11  ...          0.3\n",
              "4  2021-12-16 12:43:10  ...          0.0\n",
              "\n",
              "[5 rows x 4 columns]"
            ]
          },
          "metadata": {},
          "execution_count": 27
        }
      ]
    },
    {
      "cell_type": "markdown",
      "source": [
        "#### CONVERT  CALCULATED RESULTS TO TEXT"
      ],
      "metadata": {
        "id": "DYjr9R50BcU4"
      }
    },
    {
      "cell_type": "code",
      "source": [
        "def convert_to_text(score_polarity):\n",
        "  score = score_polarity\n",
        "  # -1 <= score < -0.5 <= score < -0.1 <= score <= 0.1 < score <= 0.5 < score <= 1\n",
        "  #   very negative     negative         neutral       positive     very positive\n",
        "\n",
        "  if (0.5 < score) and (score <= 1):\n",
        "    text_score = \"Extremely Positive\"\n",
        "  elif (0.1 < score) and (score <= 0.5):\n",
        "    text_score = \"Positive\"\n",
        "  elif (-0.1 <= score) and (score <= 0.1):\n",
        "    text_score = \"Neutral\"\n",
        "  elif (-0.5 <= score) and (score < -0.1):\n",
        "    text_score = \"Negative\"\n",
        "  elif (-1 <= score) and (score < -0.5):\n",
        "    text_score = \"Extremely negative\"\n",
        "\n",
        "  return text_score\n",
        "\n",
        "df_sentiment[\"Sentiment\"] = df_sentiment[\"Polarity\"].apply(lambda x: convert_to_text(x))\n",
        "print(\"Dimensi :\", df_sentiment.shape, \"\\n\")\n",
        "df_sentiment.head()"
      ],
      "metadata": {
        "colab": {
          "base_uri": "https://localhost:8080/",
          "height": 243
        },
        "id": "zpxjkpe3yRGQ",
        "outputId": "6fb0aa88-a0f9-46ad-aced-c1611441d3d1"
      },
      "execution_count": 28,
      "outputs": [
        {
          "output_type": "stream",
          "name": "stdout",
          "text": [
            "Dimensi : (301, 5) \n",
            "\n"
          ]
        },
        {
          "output_type": "execute_result",
          "data": {
            "text/html": [
              "<div>\n",
              "<style scoped>\n",
              "    .dataframe tbody tr th:only-of-type {\n",
              "        vertical-align: middle;\n",
              "    }\n",
              "\n",
              "    .dataframe tbody tr th {\n",
              "        vertical-align: top;\n",
              "    }\n",
              "\n",
              "    .dataframe thead th {\n",
              "        text-align: right;\n",
              "    }\n",
              "</style>\n",
              "<table border=\"1\" class=\"dataframe\">\n",
              "  <thead>\n",
              "    <tr style=\"text-align: right;\">\n",
              "      <th></th>\n",
              "      <th>TweetAt</th>\n",
              "      <th>Clean_Stopword_Tweet</th>\n",
              "      <th>Polarity</th>\n",
              "      <th>Subjectivity</th>\n",
              "      <th>Sentiment</th>\n",
              "    </tr>\n",
              "  </thead>\n",
              "  <tbody>\n",
              "    <tr>\n",
              "      <th>0</th>\n",
              "      <td>2021-12-16 12:43:42</td>\n",
              "      <td>long search formula funds means anus fix work ...</td>\n",
              "      <td>-0.05</td>\n",
              "      <td>0.4</td>\n",
              "      <td>Neutral</td>\n",
              "    </tr>\n",
              "    <tr>\n",
              "      <th>1</th>\n",
              "      <td>2021-12-16 12:43:32</td>\n",
              "      <td>fb yes bang</td>\n",
              "      <td>0.00</td>\n",
              "      <td>0.0</td>\n",
              "      <td>Neutral</td>\n",
              "    </tr>\n",
              "    <tr>\n",
              "      <th>2</th>\n",
              "      <td>2021-12-16 12:43:29</td>\n",
              "      <td>long search formula funds means anus fix work ...</td>\n",
              "      <td>-0.05</td>\n",
              "      <td>0.4</td>\n",
              "      <td>Neutral</td>\n",
              "    </tr>\n",
              "    <tr>\n",
              "      <th>3</th>\n",
              "      <td>2021-12-16 12:43:11</td>\n",
              "      <td>jk june formula runs smoothly problem accordin...</td>\n",
              "      <td>0.35</td>\n",
              "      <td>0.3</td>\n",
              "      <td>Positive</td>\n",
              "    </tr>\n",
              "    <tr>\n",
              "      <th>4</th>\n",
              "      <td>2021-12-16 12:43:10</td>\n",
              "      <td>government dpr want repeat discussion kpk law ...</td>\n",
              "      <td>0.00</td>\n",
              "      <td>0.0</td>\n",
              "      <td>Neutral</td>\n",
              "    </tr>\n",
              "  </tbody>\n",
              "</table>\n",
              "</div>"
            ],
            "text/plain": [
              "               TweetAt  ... Sentiment\n",
              "0  2021-12-16 12:43:42  ...   Neutral\n",
              "1  2021-12-16 12:43:32  ...   Neutral\n",
              "2  2021-12-16 12:43:29  ...   Neutral\n",
              "3  2021-12-16 12:43:11  ...  Positive\n",
              "4  2021-12-16 12:43:10  ...   Neutral\n",
              "\n",
              "[5 rows x 5 columns]"
            ]
          },
          "metadata": {},
          "execution_count": 28
        }
      ]
    },
    {
      "cell_type": "markdown",
      "source": [
        "#### CALCULATE TOTAL DATA PER SENTIMENT CATEGORY"
      ],
      "metadata": {
        "id": "qxCBQxjxNpH0"
      }
    },
    {
      "cell_type": "code",
      "source": [
        "tweets_exPositive = len([tweet for tweet in df_sentiment[\"Sentiment\"] if tweet == \"Extremely Positive\"])\n",
        "tweets_positive = len([tweet for tweet in df_sentiment[\"Sentiment\"] if tweet == \"Positive\"])\n",
        "tweets_neutral = len([tweet for tweet in df_sentiment[\"Sentiment\"] if tweet == \"Neutral\"])\n",
        "tweets_negative = len([tweet for tweet in df_sentiment[\"Sentiment\"] if tweet == \"Negative\"])\n",
        "tweets_exNegative = len([tweet for tweet in df_sentiment[\"Sentiment\"] if tweet == \"Extremely Negative\"])\n",
        "\n",
        "print(\"Total Data Per Kategori Sentiment :\", tweets_exPositive + tweets_positive + tweets_neutral + tweets_negative + tweets_exNegative, \"data \\n\")\n",
        "print(f\"Extremely Positive : {tweets_exPositive:3} ->\", \"{:6.2f} %\".format((tweets_exPositive / len(df_sentiment[\"Sentiment\"]) * 100)))\n",
        "print(f\"Positive           : {tweets_positive:3} ->\", \"{:6.2f} %\".format((tweets_positive / len(df_sentiment[\"Sentiment\"]) * 100)))\n",
        "print(f\"Neutral            : {tweets_neutral:3} ->\", \"{:6.2f} %\".format((tweets_neutral / len(df_sentiment[\"Sentiment\"]) * 100)))\n",
        "print(f\"Negative           : {tweets_negative:3} ->\", \"{:6.2f} %\".format((tweets_negative / len(df_sentiment[\"Sentiment\"]) * 100)))\n",
        "print(f\"Extremely Negative : {tweets_exNegative:3} ->\", \"{:6.2f} %\".format((tweets_exNegative / len(df_sentiment[\"Sentiment\"]) * 100)))"
      ],
      "metadata": {
        "colab": {
          "base_uri": "https://localhost:8080/"
        },
        "id": "TzU-FQhrORl4",
        "outputId": "6d316e8c-b258-4d02-8175-0570a014c217"
      },
      "execution_count": 29,
      "outputs": [
        {
          "output_type": "stream",
          "name": "stdout",
          "text": [
            "Total Data Per Kategori Sentiment : 293 data \n",
            "\n",
            "Extremely Positive :   4 ->   1.33 %\n",
            "Positive           :  36 ->  11.96 %\n",
            "Neutral            : 207 ->  68.77 %\n",
            "Negative           :  46 ->  15.28 %\n",
            "Extremely Negative :   0 ->   0.00 %\n"
          ]
        }
      ]
    },
    {
      "cell_type": "code",
      "source": [
        "df_sentiment['Sentiment'] = df_sentiment['Sentiment'].map({\n",
        "    \"Extremely Positive\": \"Positive\",\n",
        "    \"Positive\": \"Positive\",\n",
        "    \"Neutral\": \"Neutral\",\n",
        "    \"Negative\": \"Negative\",\n",
        "    \"Extremely Negative\": \"Negative\"\n",
        "})\n",
        "\n",
        "sentiment_value = pd.get_dummies(df_sentiment['Sentiment'])\n",
        "\n",
        "data_sentiment = pd.concat([df_sentiment, sentiment_value], axis=1)\n",
        "data_sentiment.drop(columns=['Sentiment'], inplace=True)\n",
        "data_sentiment.rename({'Clean_Stopword_Tweet' : 'Tweets'}, axis=1)\n",
        "\n",
        "display(data_sentiment[data_sentiment['Positive']==1][['Positive', 'Polarity', 'Subjectivity']].groupby('Positive').agg([np.mean, np.max, np.min, np.median]))\n",
        "display(data_sentiment[data_sentiment['Neutral']==1][['Neutral', 'Polarity', 'Subjectivity']].groupby('Neutral').agg([np.mean, np.max, np.min, np.median]))\n",
        "display(data_sentiment[data_sentiment['Negative']==1][['Negative', 'Polarity', 'Subjectivity']].groupby('Negative').agg([np.mean, np.max, np.min, np.median]))\n"
      ],
      "metadata": {
        "colab": {
          "base_uri": "https://localhost:8080/",
          "height": 396
        },
        "id": "DaJyRlPLsM8W",
        "outputId": "fc032a57-a8aa-4831-d781-bf9f3df2efe4"
      },
      "execution_count": 30,
      "outputs": [
        {
          "output_type": "display_data",
          "data": {
            "text/html": [
              "<div>\n",
              "<style scoped>\n",
              "    .dataframe tbody tr th:only-of-type {\n",
              "        vertical-align: middle;\n",
              "    }\n",
              "\n",
              "    .dataframe tbody tr th {\n",
              "        vertical-align: top;\n",
              "    }\n",
              "\n",
              "    .dataframe thead tr th {\n",
              "        text-align: left;\n",
              "    }\n",
              "\n",
              "    .dataframe thead tr:last-of-type th {\n",
              "        text-align: right;\n",
              "    }\n",
              "</style>\n",
              "<table border=\"1\" class=\"dataframe\">\n",
              "  <thead>\n",
              "    <tr>\n",
              "      <th></th>\n",
              "      <th colspan=\"4\" halign=\"left\">Polarity</th>\n",
              "      <th colspan=\"4\" halign=\"left\">Subjectivity</th>\n",
              "    </tr>\n",
              "    <tr>\n",
              "      <th></th>\n",
              "      <th>mean</th>\n",
              "      <th>amax</th>\n",
              "      <th>amin</th>\n",
              "      <th>median</th>\n",
              "      <th>mean</th>\n",
              "      <th>amax</th>\n",
              "      <th>amin</th>\n",
              "      <th>median</th>\n",
              "    </tr>\n",
              "    <tr>\n",
              "      <th>Positive</th>\n",
              "      <th></th>\n",
              "      <th></th>\n",
              "      <th></th>\n",
              "      <th></th>\n",
              "      <th></th>\n",
              "      <th></th>\n",
              "      <th></th>\n",
              "      <th></th>\n",
              "    </tr>\n",
              "  </thead>\n",
              "  <tbody>\n",
              "    <tr>\n",
              "      <th>1</th>\n",
              "      <td>0.334524</td>\n",
              "      <td>0.8</td>\n",
              "      <td>0.133333</td>\n",
              "      <td>0.2625</td>\n",
              "      <td>0.542411</td>\n",
              "      <td>1.0</td>\n",
              "      <td>0.1</td>\n",
              "      <td>0.5</td>\n",
              "    </tr>\n",
              "  </tbody>\n",
              "</table>\n",
              "</div>"
            ],
            "text/plain": [
              "          Polarity                        Subjectivity                 \n",
              "              mean amax      amin  median         mean amax amin median\n",
              "Positive                                                               \n",
              "1         0.334524  0.8  0.133333  0.2625     0.542411  1.0  0.1    0.5"
            ]
          },
          "metadata": {}
        },
        {
          "output_type": "display_data",
          "data": {
            "text/html": [
              "<div>\n",
              "<style scoped>\n",
              "    .dataframe tbody tr th:only-of-type {\n",
              "        vertical-align: middle;\n",
              "    }\n",
              "\n",
              "    .dataframe tbody tr th {\n",
              "        vertical-align: top;\n",
              "    }\n",
              "\n",
              "    .dataframe thead tr th {\n",
              "        text-align: left;\n",
              "    }\n",
              "\n",
              "    .dataframe thead tr:last-of-type th {\n",
              "        text-align: right;\n",
              "    }\n",
              "</style>\n",
              "<table border=\"1\" class=\"dataframe\">\n",
              "  <thead>\n",
              "    <tr>\n",
              "      <th></th>\n",
              "      <th colspan=\"4\" halign=\"left\">Polarity</th>\n",
              "      <th colspan=\"4\" halign=\"left\">Subjectivity</th>\n",
              "    </tr>\n",
              "    <tr>\n",
              "      <th></th>\n",
              "      <th>mean</th>\n",
              "      <th>amax</th>\n",
              "      <th>amin</th>\n",
              "      <th>median</th>\n",
              "      <th>mean</th>\n",
              "      <th>amax</th>\n",
              "      <th>amin</th>\n",
              "      <th>median</th>\n",
              "    </tr>\n",
              "    <tr>\n",
              "      <th>Neutral</th>\n",
              "      <th></th>\n",
              "      <th></th>\n",
              "      <th></th>\n",
              "      <th></th>\n",
              "      <th></th>\n",
              "      <th></th>\n",
              "      <th></th>\n",
              "      <th></th>\n",
              "    </tr>\n",
              "  </thead>\n",
              "  <tbody>\n",
              "    <tr>\n",
              "      <th>1</th>\n",
              "      <td>-0.01007</td>\n",
              "      <td>0.1</td>\n",
              "      <td>-0.1</td>\n",
              "      <td>0.0</td>\n",
              "      <td>0.16002</td>\n",
              "      <td>1.0</td>\n",
              "      <td>0.0</td>\n",
              "      <td>0.0</td>\n",
              "    </tr>\n",
              "  </tbody>\n",
              "</table>\n",
              "</div>"
            ],
            "text/plain": [
              "        Polarity                  Subjectivity                 \n",
              "            mean amax amin median         mean amax amin median\n",
              "Neutral                                                        \n",
              "1       -0.01007  0.1 -0.1    0.0      0.16002  1.0  0.0    0.0"
            ]
          },
          "metadata": {}
        },
        {
          "output_type": "display_data",
          "data": {
            "text/html": [
              "<div>\n",
              "<style scoped>\n",
              "    .dataframe tbody tr th:only-of-type {\n",
              "        vertical-align: middle;\n",
              "    }\n",
              "\n",
              "    .dataframe tbody tr th {\n",
              "        vertical-align: top;\n",
              "    }\n",
              "\n",
              "    .dataframe thead tr th {\n",
              "        text-align: left;\n",
              "    }\n",
              "\n",
              "    .dataframe thead tr:last-of-type th {\n",
              "        text-align: right;\n",
              "    }\n",
              "</style>\n",
              "<table border=\"1\" class=\"dataframe\">\n",
              "  <thead>\n",
              "    <tr>\n",
              "      <th></th>\n",
              "      <th colspan=\"4\" halign=\"left\">Polarity</th>\n",
              "      <th colspan=\"4\" halign=\"left\">Subjectivity</th>\n",
              "    </tr>\n",
              "    <tr>\n",
              "      <th></th>\n",
              "      <th>mean</th>\n",
              "      <th>amax</th>\n",
              "      <th>amin</th>\n",
              "      <th>median</th>\n",
              "      <th>mean</th>\n",
              "      <th>amax</th>\n",
              "      <th>amin</th>\n",
              "      <th>median</th>\n",
              "    </tr>\n",
              "    <tr>\n",
              "      <th>Negative</th>\n",
              "      <th></th>\n",
              "      <th></th>\n",
              "      <th></th>\n",
              "      <th></th>\n",
              "      <th></th>\n",
              "      <th></th>\n",
              "      <th></th>\n",
              "      <th></th>\n",
              "    </tr>\n",
              "  </thead>\n",
              "  <tbody>\n",
              "    <tr>\n",
              "      <th>1</th>\n",
              "      <td>-0.352321</td>\n",
              "      <td>-0.142857</td>\n",
              "      <td>-0.5</td>\n",
              "      <td>-0.35</td>\n",
              "      <td>0.652398</td>\n",
              "      <td>1.0</td>\n",
              "      <td>0.4</td>\n",
              "      <td>0.638889</td>\n",
              "    </tr>\n",
              "  </tbody>\n",
              "</table>\n",
              "</div>"
            ],
            "text/plain": [
              "          Polarity                       Subjectivity                    \n",
              "              mean      amax amin median         mean amax amin    median\n",
              "Negative                                                                 \n",
              "1        -0.352321 -0.142857 -0.5  -0.35     0.652398  1.0  0.4  0.638889"
            ]
          },
          "metadata": {}
        }
      ]
    },
    {
      "cell_type": "markdown",
      "source": [
        "#### CONCAT VALUE SENTIMENT TO COLUMN"
      ],
      "metadata": {
        "id": "ahDRPhFUvoEE"
      }
    },
    {
      "cell_type": "markdown",
      "source": [
        "get_dummies pada concat berfungsi untuk memberikan nilai :\n",
        "*   (1) -> apabila terdapat data\n",
        "*   (0) -> apabila data kosong\n",
        "\n"
      ],
      "metadata": {
        "id": "T3eoOvUAvs7H"
      }
    },
    {
      "cell_type": "code",
      "source": [
        "# get focus column with indexing for concat\n",
        "df_concat = df_sentiment.loc[:, [\"TweetAt\", \"Clean_Stopword_Tweet\", \"Polarity\", 'Subjectivity', \"Sentiment\"]]\n",
        "\n",
        "df_concat['Sentiment'] = df_concat['Sentiment'].map({\n",
        "    \"Extremely Positive\": \"Positive\",\n",
        "    \"Positive\": \"Positive\",\n",
        "    \"Neutral\": \"Neutral\",\n",
        "    \"Negative\": \"Negative\",\n",
        "    \"Extremely Negative\": \"Negative\"\n",
        "})\n",
        "\n",
        "sentiment_value = pd.get_dummies(df_concat['Sentiment'])\n",
        "\n",
        "data_concat = pd.concat([df_concat, sentiment_value], axis=1)\n",
        "data_concat.drop(columns=['Polarity', 'Subjectivity', 'Sentiment'], inplace=True)\n",
        "data_concat.rename({'Clean_Stopword_Tweet' : 'Tweets'}, axis=1)\n",
        "\n",
        "print(\"Dimensi :\", data_concat.shape, \"\\n\")\n",
        "data_concat.head()"
      ],
      "metadata": {
        "colab": {
          "base_uri": "https://localhost:8080/",
          "height": 243
        },
        "id": "OyImAK6Lf96b",
        "outputId": "fae97c83-308e-451d-b809-3d922e84caa0"
      },
      "execution_count": 31,
      "outputs": [
        {
          "output_type": "stream",
          "name": "stdout",
          "text": [
            "Dimensi : (301, 5) \n",
            "\n"
          ]
        },
        {
          "output_type": "execute_result",
          "data": {
            "text/html": [
              "<div>\n",
              "<style scoped>\n",
              "    .dataframe tbody tr th:only-of-type {\n",
              "        vertical-align: middle;\n",
              "    }\n",
              "\n",
              "    .dataframe tbody tr th {\n",
              "        vertical-align: top;\n",
              "    }\n",
              "\n",
              "    .dataframe thead th {\n",
              "        text-align: right;\n",
              "    }\n",
              "</style>\n",
              "<table border=\"1\" class=\"dataframe\">\n",
              "  <thead>\n",
              "    <tr style=\"text-align: right;\">\n",
              "      <th></th>\n",
              "      <th>TweetAt</th>\n",
              "      <th>Clean_Stopword_Tweet</th>\n",
              "      <th>Negative</th>\n",
              "      <th>Neutral</th>\n",
              "      <th>Positive</th>\n",
              "    </tr>\n",
              "  </thead>\n",
              "  <tbody>\n",
              "    <tr>\n",
              "      <th>0</th>\n",
              "      <td>2021-12-16 12:43:42</td>\n",
              "      <td>long search formula funds means anus fix work ...</td>\n",
              "      <td>0</td>\n",
              "      <td>1</td>\n",
              "      <td>0</td>\n",
              "    </tr>\n",
              "    <tr>\n",
              "      <th>1</th>\n",
              "      <td>2021-12-16 12:43:32</td>\n",
              "      <td>fb yes bang</td>\n",
              "      <td>0</td>\n",
              "      <td>1</td>\n",
              "      <td>0</td>\n",
              "    </tr>\n",
              "    <tr>\n",
              "      <th>2</th>\n",
              "      <td>2021-12-16 12:43:29</td>\n",
              "      <td>long search formula funds means anus fix work ...</td>\n",
              "      <td>0</td>\n",
              "      <td>1</td>\n",
              "      <td>0</td>\n",
              "    </tr>\n",
              "    <tr>\n",
              "      <th>3</th>\n",
              "      <td>2021-12-16 12:43:11</td>\n",
              "      <td>jk june formula runs smoothly problem accordin...</td>\n",
              "      <td>0</td>\n",
              "      <td>0</td>\n",
              "      <td>1</td>\n",
              "    </tr>\n",
              "    <tr>\n",
              "      <th>4</th>\n",
              "      <td>2021-12-16 12:43:10</td>\n",
              "      <td>government dpr want repeat discussion kpk law ...</td>\n",
              "      <td>0</td>\n",
              "      <td>1</td>\n",
              "      <td>0</td>\n",
              "    </tr>\n",
              "  </tbody>\n",
              "</table>\n",
              "</div>"
            ],
            "text/plain": [
              "               TweetAt  ... Positive\n",
              "0  2021-12-16 12:43:42  ...        0\n",
              "1  2021-12-16 12:43:32  ...        0\n",
              "2  2021-12-16 12:43:29  ...        0\n",
              "3  2021-12-16 12:43:11  ...        1\n",
              "4  2021-12-16 12:43:10  ...        0\n",
              "\n",
              "[5 rows x 5 columns]"
            ]
          },
          "metadata": {},
          "execution_count": 31
        }
      ]
    },
    {
      "cell_type": "markdown",
      "source": [
        "# DATA VISUALIZATION"
      ],
      "metadata": {
        "id": "xANn-9dxxXqn"
      }
    },
    {
      "cell_type": "markdown",
      "source": [
        "- Seaborn untuk memudahkan dalam visualisasi data.\n",
        "- Matplotlib untuk visualisasi data."
      ],
      "metadata": {
        "id": "BiN9mLAgxphv"
      }
    },
    {
      "cell_type": "code",
      "source": [
        "import seaborn as sns\n",
        "import matplotlib.pyplot as plt\n",
        "\n",
        "print(\"Library visualisasi data berhasil dihubungkan\")"
      ],
      "metadata": {
        "colab": {
          "base_uri": "https://localhost:8080/"
        },
        "id": "7Ir_Q7I1xbpA",
        "outputId": "487065e4-379a-48b2-ba1a-95d3e17b87fb"
      },
      "execution_count": 32,
      "outputs": [
        {
          "output_type": "stream",
          "name": "stdout",
          "text": [
            "Library visualisasi data berhasil dihubungkan\n"
          ]
        }
      ]
    },
    {
      "cell_type": "code",
      "source": [
        "positive = data_sentiment[data_sentiment['Positive']==1][['TweetAt', 'Polarity']]\n",
        "positive = positive.sort_values(by='TweetAt', ascending=True)\n",
        "positive['MA Polarity'] = positive.Polarity.rolling(10, min_periods=3).mean()\n",
        "\n",
        "neutral = data_sentiment[data_sentiment['Neutral']==1][['TweetAt', 'Polarity']]\n",
        "neutral = neutral.sort_values(by='TweetAt', ascending=True)\n",
        "neutral['MA Polarity'] = neutral.Polarity.rolling(10, min_periods=3).mean()\n",
        "\n",
        "negative = data_sentiment[data_sentiment['Negative']==1][['TweetAt', 'Polarity']]\n",
        "negative = negative.sort_values(by='TweetAt', ascending=True)\n",
        "negative['MA Polarity'] = negative.Polarity.rolling(10, min_periods=3).mean()"
      ],
      "metadata": {
        "id": "XOcUKlXDrfV2"
      },
      "execution_count": 33,
      "outputs": []
    },
    {
      "cell_type": "markdown",
      "source": [
        "#### SHOW VISUALIZATION OF AVERAGE SENTIMENT MOVEMENT PER 10 POLARITY TWEET"
      ],
      "metadata": {
        "id": "pkJvJt2l06IO"
      }
    },
    {
      "cell_type": "code",
      "source": [
        "figure = plt.figure(figsize=(16,10))\n",
        "axis = figure.subplots(nrows=3, ncols=1, sharex=True, sharey=True)\n",
        "\n",
        "axis[0].plot(positive['TweetAt'], positive['MA Polarity'], color='blue')\n",
        "axis[0].set_title(\"\\n\".join(['Positive Polarity']))\n",
        "\n",
        "axis[1].plot(neutral['TweetAt'], neutral['MA Polarity'], color='red')\n",
        "axis[1].set_title(\"\\n\".join(['Neutral Polarity']))\n",
        "\n",
        "axis[2].plot(negative['TweetAt'], negative['MA Polarity'], color='green')\n",
        "axis[2].set_title(\"\\n\".join(['Negative Polarity']))\n",
        "\n",
        "figure.suptitle(\"\\n\".join(['Sentiment Analyst']), y=0.98)\n",
        "plt.show()"
      ],
      "metadata": {
        "colab": {
          "base_uri": "https://localhost:8080/",
          "height": 663
        },
        "id": "YQdL5OO3wH93",
        "outputId": "273c7bbf-84bb-4741-bf47-88eb81724866"
      },
      "execution_count": 34,
      "outputs": [
        {
          "output_type": "display_data",
          "data": {
            "image/png": "[encoded data removed]",
            "text/plain": [
              "<Figure size 1152x720 with 3 Axes>"
            ]
          },
          "metadata": {
            "needs_background": "light"
          }
        }
      ]
    },
    {
      "cell_type": "code",
      "source": [
        "figure = plt.figure(figsize=(14,8))\n",
        "axis = figure.subplots(nrows=1, ncols=3, sharex=True, sharey=True)\n",
        "\n",
        "axis[0].plot(positive['TweetAt'], positive['MA Polarity'], color='blue')\n",
        "axis[0].set_title(\"\\n\".join(['Positive Polarity']))\n",
        "\n",
        "axis[1].plot(neutral['TweetAt'], neutral['MA Polarity'], color='red')\n",
        "axis[1].set_title(\"\\n\".join(['Neutral Polarity']))\n",
        "\n",
        "axis[2].plot(negative['TweetAt'], negative['MA Polarity'], color='green')\n",
        "axis[2].set_title(\"\\n\".join(['Negative Polarity']))\n",
        "\n",
        "figure.suptitle(\"\\n\".join(['Sentiment Analyst']), y=0.98)\n",
        "plt.show()"
      ],
      "metadata": {
        "colab": {
          "base_uri": "https://localhost:8080/",
          "height": 540
        },
        "id": "Hu8hcLrD0Mje",
        "outputId": "845a65f3-a3ca-41b4-a681-55797d3e2cea"
      },
      "execution_count": 35,
      "outputs": [
        {
          "output_type": "display_data",
          "data": {
            "image/png": "[encoded data removed]",
            "text/plain": [
              "<Figure size 1008x576 with 3 Axes>"
            ]
          },
          "metadata": {
            "needs_background": "light"
          }
        }
      ]
    }
  ],
  "metadata": {
    "colab": {
      "collapsed_sections": [],
      "name": "Crawling-Tweet_And_Sentiment-Analyst-Data-KPK-Tweet-From-Twitter.ipynb",
      "provenance": [],
      "toc_visible": true
    },
    "kernelspec": {
      "display_name": "Python 3 (ipykernel)",
      "language": "python",
      "name": "python3"
    },
    "language_info": {
      "codemirror_mode": {
        "name": "ipython",
        "version": 3
      },
      "file_extension": ".py",
      "mimetype": "text/x-python",
      "name": "python",
      "nbconvert_exporter": "python",
      "pygments_lexer": "ipython3",
      "version": "3.9.6"
    }
  },
  "nbformat": 4,
  "nbformat_minor": 0
}